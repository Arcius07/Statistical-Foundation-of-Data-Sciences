{
  "nbformat": 4,
  "nbformat_minor": 0,
  "metadata": {
    "colab": {
      "provenance": []
    },
    "kernelspec": {
      "name": "python3",
      "display_name": "Python 3"
    },
    "language_info": {
      "name": "python"
    }
  },
  "cells": [
    {
      "cell_type": "code",
      "execution_count": 2,
      "metadata": {
        "id": "aDRgZu-NeZlv",
        "colab": {
          "base_uri": "https://localhost:8080/"
        },
        "outputId": "03e403f0-56f0-40a4-accd-44ac97fc7839"
      },
      "outputs": [
        {
          "output_type": "stream",
          "name": "stdout",
          "text": [
            "     prof  Gender  Age Tenure  Evaluation  Students  Beauty CourseLevel\n",
            "0  Prof52    Male   59     No        4.38        69     3.1       Lower\n",
            "1  Prof93    Male   59     No        3.12        71     4.2       Lower\n",
            "2  Prof15    Male   51     No        4.83        38     4.0       Lower\n",
            "3  Prof72    Male   36    Yes        3.88        79     3.4       Lower\n",
            "4  Prof61  Female   47     No        3.48        56     2.8       Upper\n"
          ]
        }
      ],
      "source": [
        "import pandas as pd\n",
        "import scipy.stats as stats\n",
        "\n",
        "df = pd.read_csv(\"/content/teachers_rating_data.csv\")\n",
        "\n",
        "print(df.head())"
      ]
    },
    {
      "cell_type": "markdown",
      "source": [
        "# Q1. T-Test: Using the teachers' rating data set, does gender affect teaching evaluation rates?"
      ],
      "metadata": {
        "id": "CvOWiVM57kWQ"
      }
    },
    {
      "cell_type": "code",
      "source": [
        "correlation, p_value = stats.pearsonr(df['Beauty'], df['Evaluation'])\n",
        "\n",
        "print(f\"Correlation between Beauty and Evaluation: {correlation:.4f}\")\n",
        "print(f\"P-value: {p_value:.4f}\")"
      ],
      "metadata": {
        "colab": {
          "base_uri": "https://localhost:8080/"
        },
        "id": "4H0SO8fA66VO",
        "outputId": "56035982-8252-4cb5-8dff-ffee01f60a8c"
      },
      "execution_count": 5,
      "outputs": [
        {
          "output_type": "stream",
          "name": "stdout",
          "text": [
            "Correlation between Beauty and Evaluation: -0.1830\n",
            "P-value: 0.0454\n"
          ]
        }
      ]
    },
    {
      "cell_type": "markdown",
      "source": [
        "# Correlation Coefficient: -0.1830\n",
        "\n",
        "This value indicates a weak negative linear relationship between 'Beauty' and 'Evaluation'.\n",
        "\n",
        "In practical terms, this suggests that as a professor's perceived beauty score increases, their evaluation score tends to slightly decrease.\n",
        "\n",
        "# P-value: 0.0454\n",
        "\n",
        "Since this p-value is less than the standard significance level of 0.05, the correlation is considered statistically significant.\n",
        "\n",
        "This means we can be reasonably confident that the weak negative relationship observed in the sample is not due to random chance and likely exists in the broader population from which the sample was drawn."
      ],
      "metadata": {
        "id": "cKzi3C4b7Xfn"
      }
    },
    {
      "cell_type": "markdown",
      "source": [
        "# Q2. ANOVA: Using the teachers' rating data set, does beauty score for instructors differ by age?"
      ],
      "metadata": {
        "id": "4k-Cv_9Q7taS"
      }
    },
    {
      "cell_type": "markdown",
      "source": [
        "## Objective:\n",
        "To check whether beauty scores differ significantly across different age groups.\n",
        "\n",
        "## Hypotheses:\n",
        "\n",
        "H₀: Mean beauty scores are equal across all age groups.\n",
        "\n",
        "H₁: At least one group has a different mean beauty score.\n",
        "\n",
        "## Test Used:\n",
        "One-way ANOVA"
      ],
      "metadata": {
        "id": "iaFn4vnS8UTl"
      }
    },
    {
      "cell_type": "code",
      "source": [
        "male_eval = df[df['Gender'] == 'Male']['Evaluation']\n",
        "female_eval = df[df['Gender'] == 'Female']['Evaluation']\n",
        "\n",
        "t_stat, p_value_gender = stats.ttest_ind(male_eval, female_eval)\n",
        "\n",
        "print(f\"T-statistic: {t_stat:.4f}\")\n",
        "print(f\"P-value: {p_value_gender:.4f}\")"
      ],
      "metadata": {
        "colab": {
          "base_uri": "https://localhost:8080/"
        },
        "id": "h3q1VYDB7HW6",
        "outputId": "d6522d2f-c7c9-40aa-9ed2-dc3b64bdb626"
      },
      "execution_count": 6,
      "outputs": [
        {
          "output_type": "stream",
          "name": "stdout",
          "text": [
            "T-statistic: 2.2958\n",
            "P-value: 0.0235\n"
          ]
        }
      ]
    },
    {
      "cell_type": "markdown",
      "source": [
        "# T-statistic: 2.2958\n",
        "\n",
        "This positive value indicates that the average 'Evaluation' score for the first group in the comparison (male professors) is higher than the average score for the second group (female professors).\n",
        "\n",
        "#P-value: 0.0235\n",
        "\n",
        "This p-value is less than the standard significance level of 0.05.Therefore, the result is statistically significant. We can conclude that there is a significant difference in the mean evaluation scores between male and female professors in this dataset."
      ],
      "metadata": {
        "id": "f-TH8aEq7zwB"
      }
    },
    {
      "cell_type": "markdown",
      "source": [
        "# Q3. Chi-square: Using the teachers' rating data set, is there an association between tenure and gender?"
      ],
      "metadata": {
        "id": "1ow15Xl58FDs"
      }
    },
    {
      "cell_type": "markdown",
      "source": [
        "# Objective:\n",
        "To test whether tenure and gender are independent or associated.\n",
        "\n",
        "# Hypotheses:\n",
        "\n",
        "H₀: Tenure and gender are independent.\n",
        "\n",
        "H₁: There is an association between tenure and gender.\n",
        "\n",
        "Test Used:\n",
        "Chi-square test of independence"
      ],
      "metadata": {
        "id": "-dXPO2rx8OFs"
      }
    },
    {
      "cell_type": "code",
      "source": [
        "contingency_table = pd.crosstab(df['Tenure'], df['Gender'])\n",
        "chi2, p, dof, expected = stats.chi2_contingency(contingency_table)\n",
        "print(\"Chi-square:\", chi2)\n",
        "print(\"P-Value:\", p)"
      ],
      "metadata": {
        "colab": {
          "base_uri": "https://localhost:8080/"
        },
        "id": "AV-UPr2A7zMR",
        "outputId": "c9c9135d-e36e-4fc8-cbc6-cc5197be67cf"
      },
      "execution_count": 7,
      "outputs": [
        {
          "output_type": "stream",
          "name": "stdout",
          "text": [
            "Chi-square: 0.28968284722760423\n",
            "P-Value: 0.5904238409135254\n"
          ]
        }
      ]
    },
    {
      "cell_type": "markdown",
      "source": [
        "# Interpretation:\n",
        "\n",
        "fail to reject H₀ → They are independent."
      ],
      "metadata": {
        "id": "UvBenR0Z8SN9"
      }
    },
    {
      "cell_type": "markdown",
      "source": [
        "# Q4. Correlation: Using the teachers' rating dataset, is teaching evaluation score correlated with beauty score?"
      ],
      "metadata": {
        "id": "VXaZOK7p8fbm"
      }
    },
    {
      "cell_type": "markdown",
      "source": [
        "# Objective:\n",
        "To test whether there is a linear relationship between evaluation and beauty.\n",
        "\n",
        "# Hypotheses:\n",
        "\n",
        "H₀: There is no correlation between evaluation and beauty.\n",
        "\n",
        "H₁: There is a correlation between evaluation and beauty.\n",
        "\n",
        "Test Used:\n",
        "Pearson Correlation Coefficient"
      ],
      "metadata": {
        "id": "G16KxS_N8irW"
      }
    },
    {
      "cell_type": "code",
      "source": [
        "tenured_eval = df[df['Tenure'] == 'Yes']['Evaluation']\n",
        "non_tenured_eval = df[df['Tenure'] == 'No']['Evaluation']\n",
        "\n",
        "t_stat_tenure, p_value_tenure = stats.ttest_ind(tenured_eval, non_tenured_eval)\n",
        "\n",
        "print(f\"T-statistic: {t_stat_tenure:.4f}\")\n",
        "print(f\"P-value: {p_value_tenure:.4f}\")"
      ],
      "metadata": {
        "colab": {
          "base_uri": "https://localhost:8080/"
        },
        "id": "eV2NaNfv8D1_",
        "outputId": "c68c9672-1c70-46c8-8e62-f873224d1be5"
      },
      "execution_count": 9,
      "outputs": [
        {
          "output_type": "stream",
          "name": "stdout",
          "text": [
            "T-statistic: -0.8877\n",
            "P-value: 0.3765\n"
          ]
        }
      ]
    },
    {
      "cell_type": "markdown",
      "source": [
        "# T-statistic: -0.8877\n",
        "\n",
        "This negative value indicates that the average 'Evaluation' score for tenured professors is slightly lower than the average score for non-tenured professors.\n",
        "\n",
        "# P-value: 0.3765\n",
        "\n",
        "This p-value is significantly greater than the standard significance level of $0.05$.Therefore, the result is not statistically significant."
      ],
      "metadata": {
        "id": "-pvt0zbW86Ih"
      }
    }
  ]
}