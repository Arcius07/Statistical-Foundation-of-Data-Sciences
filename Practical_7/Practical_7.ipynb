{
  "nbformat": 4,
  "nbformat_minor": 0,
  "metadata": {
    "colab": {
      "provenance": []
    },
    "kernelspec": {
      "name": "python3",
      "display_name": "Python 3"
    },
    "language_info": {
      "name": "python"
    }
  },
  "cells": [
    {
      "cell_type": "code",
      "execution_count": 1,
      "metadata": {
        "id": "k1jbKrSTyaM5"
      },
      "outputs": [],
      "source": [
        "import pandas as pd\n",
        "from scipy import stats\n",
        "import statsmodels.formula.api as smf\n",
        "import statsmodels.api as sm"
      ]
    },
    {
      "cell_type": "code",
      "source": [
        "df = pd.read_csv(\"/content/teachers_rating_data.csv\")\n",
        "df.head()"
      ],
      "metadata": {
        "colab": {
          "base_uri": "https://localhost:8080/",
          "height": 206
        },
        "id": "OcYHbhB5yjCe",
        "outputId": "85fbe29a-f2e2-4b6e-eaa4-8ace0f62dbea"
      },
      "execution_count": 3,
      "outputs": [
        {
          "output_type": "execute_result",
          "data": {
            "text/plain": [
              "     prof  Gender  Age Tenure  Evaluation  Students  Beauty CourseLevel\n",
              "0  Prof52    Male   59     No        4.38        69     3.1       Lower\n",
              "1  Prof93    Male   59     No        3.12        71     4.2       Lower\n",
              "2  Prof15    Male   51     No        4.83        38     4.0       Lower\n",
              "3  Prof72    Male   36    Yes        3.88        79     3.4       Lower\n",
              "4  Prof61  Female   47     No        3.48        56     2.8       Upper"
            ],
            "text/html": [
              "\n",
              "  <div id=\"df-2951791c-bde9-492e-9697-14a7d34cb7ef\" class=\"colab-df-container\">\n",
              "    <div>\n",
              "<style scoped>\n",
              "    .dataframe tbody tr th:only-of-type {\n",
              "        vertical-align: middle;\n",
              "    }\n",
              "\n",
              "    .dataframe tbody tr th {\n",
              "        vertical-align: top;\n",
              "    }\n",
              "\n",
              "    .dataframe thead th {\n",
              "        text-align: right;\n",
              "    }\n",
              "</style>\n",
              "<table border=\"1\" class=\"dataframe\">\n",
              "  <thead>\n",
              "    <tr style=\"text-align: right;\">\n",
              "      <th></th>\n",
              "      <th>prof</th>\n",
              "      <th>Gender</th>\n",
              "      <th>Age</th>\n",
              "      <th>Tenure</th>\n",
              "      <th>Evaluation</th>\n",
              "      <th>Students</th>\n",
              "      <th>Beauty</th>\n",
              "      <th>CourseLevel</th>\n",
              "    </tr>\n",
              "  </thead>\n",
              "  <tbody>\n",
              "    <tr>\n",
              "      <th>0</th>\n",
              "      <td>Prof52</td>\n",
              "      <td>Male</td>\n",
              "      <td>59</td>\n",
              "      <td>No</td>\n",
              "      <td>4.38</td>\n",
              "      <td>69</td>\n",
              "      <td>3.1</td>\n",
              "      <td>Lower</td>\n",
              "    </tr>\n",
              "    <tr>\n",
              "      <th>1</th>\n",
              "      <td>Prof93</td>\n",
              "      <td>Male</td>\n",
              "      <td>59</td>\n",
              "      <td>No</td>\n",
              "      <td>3.12</td>\n",
              "      <td>71</td>\n",
              "      <td>4.2</td>\n",
              "      <td>Lower</td>\n",
              "    </tr>\n",
              "    <tr>\n",
              "      <th>2</th>\n",
              "      <td>Prof15</td>\n",
              "      <td>Male</td>\n",
              "      <td>51</td>\n",
              "      <td>No</td>\n",
              "      <td>4.83</td>\n",
              "      <td>38</td>\n",
              "      <td>4.0</td>\n",
              "      <td>Lower</td>\n",
              "    </tr>\n",
              "    <tr>\n",
              "      <th>3</th>\n",
              "      <td>Prof72</td>\n",
              "      <td>Male</td>\n",
              "      <td>36</td>\n",
              "      <td>Yes</td>\n",
              "      <td>3.88</td>\n",
              "      <td>79</td>\n",
              "      <td>3.4</td>\n",
              "      <td>Lower</td>\n",
              "    </tr>\n",
              "    <tr>\n",
              "      <th>4</th>\n",
              "      <td>Prof61</td>\n",
              "      <td>Female</td>\n",
              "      <td>47</td>\n",
              "      <td>No</td>\n",
              "      <td>3.48</td>\n",
              "      <td>56</td>\n",
              "      <td>2.8</td>\n",
              "      <td>Upper</td>\n",
              "    </tr>\n",
              "  </tbody>\n",
              "</table>\n",
              "</div>\n",
              "    <div class=\"colab-df-buttons\">\n",
              "\n",
              "  <div class=\"colab-df-container\">\n",
              "    <button class=\"colab-df-convert\" onclick=\"convertToInteractive('df-2951791c-bde9-492e-9697-14a7d34cb7ef')\"\n",
              "            title=\"Convert this dataframe to an interactive table.\"\n",
              "            style=\"display:none;\">\n",
              "\n",
              "  <svg xmlns=\"http://www.w3.org/2000/svg\" height=\"24px\" viewBox=\"0 -960 960 960\">\n",
              "    <path d=\"M120-120v-720h720v720H120Zm60-500h600v-160H180v160Zm220 220h160v-160H400v160Zm0 220h160v-160H400v160ZM180-400h160v-160H180v160Zm440 0h160v-160H620v160ZM180-180h160v-160H180v160Zm440 0h160v-160H620v160Z\"/>\n",
              "  </svg>\n",
              "    </button>\n",
              "\n",
              "  <style>\n",
              "    .colab-df-container {\n",
              "      display:flex;\n",
              "      gap: 12px;\n",
              "    }\n",
              "\n",
              "    .colab-df-convert {\n",
              "      background-color: #E8F0FE;\n",
              "      border: none;\n",
              "      border-radius: 50%;\n",
              "      cursor: pointer;\n",
              "      display: none;\n",
              "      fill: #1967D2;\n",
              "      height: 32px;\n",
              "      padding: 0 0 0 0;\n",
              "      width: 32px;\n",
              "    }\n",
              "\n",
              "    .colab-df-convert:hover {\n",
              "      background-color: #E2EBFA;\n",
              "      box-shadow: 0px 1px 2px rgba(60, 64, 67, 0.3), 0px 1px 3px 1px rgba(60, 64, 67, 0.15);\n",
              "      fill: #174EA6;\n",
              "    }\n",
              "\n",
              "    .colab-df-buttons div {\n",
              "      margin-bottom: 4px;\n",
              "    }\n",
              "\n",
              "    [theme=dark] .colab-df-convert {\n",
              "      background-color: #3B4455;\n",
              "      fill: #D2E3FC;\n",
              "    }\n",
              "\n",
              "    [theme=dark] .colab-df-convert:hover {\n",
              "      background-color: #434B5C;\n",
              "      box-shadow: 0px 1px 3px 1px rgba(0, 0, 0, 0.15);\n",
              "      filter: drop-shadow(0px 1px 2px rgba(0, 0, 0, 0.3));\n",
              "      fill: #FFFFFF;\n",
              "    }\n",
              "  </style>\n",
              "\n",
              "    <script>\n",
              "      const buttonEl =\n",
              "        document.querySelector('#df-2951791c-bde9-492e-9697-14a7d34cb7ef button.colab-df-convert');\n",
              "      buttonEl.style.display =\n",
              "        google.colab.kernel.accessAllowed ? 'block' : 'none';\n",
              "\n",
              "      async function convertToInteractive(key) {\n",
              "        const element = document.querySelector('#df-2951791c-bde9-492e-9697-14a7d34cb7ef');\n",
              "        const dataTable =\n",
              "          await google.colab.kernel.invokeFunction('convertToInteractive',\n",
              "                                                    [key], {});\n",
              "        if (!dataTable) return;\n",
              "\n",
              "        const docLinkHtml = 'Like what you see? Visit the ' +\n",
              "          '<a target=\"_blank\" href=https://colab.research.google.com/notebooks/data_table.ipynb>data table notebook</a>'\n",
              "          + ' to learn more about interactive tables.';\n",
              "        element.innerHTML = '';\n",
              "        dataTable['output_type'] = 'display_data';\n",
              "        await google.colab.output.renderOutput(dataTable, element);\n",
              "        const docLink = document.createElement('div');\n",
              "        docLink.innerHTML = docLinkHtml;\n",
              "        element.appendChild(docLink);\n",
              "      }\n",
              "    </script>\n",
              "  </div>\n",
              "\n",
              "\n",
              "    <div id=\"df-aaae9cd9-4965-4f61-8b3e-78f0492c97ee\">\n",
              "      <button class=\"colab-df-quickchart\" onclick=\"quickchart('df-aaae9cd9-4965-4f61-8b3e-78f0492c97ee')\"\n",
              "                title=\"Suggest charts\"\n",
              "                style=\"display:none;\">\n",
              "\n",
              "<svg xmlns=\"http://www.w3.org/2000/svg\" height=\"24px\"viewBox=\"0 0 24 24\"\n",
              "     width=\"24px\">\n",
              "    <g>\n",
              "        <path d=\"M19 3H5c-1.1 0-2 .9-2 2v14c0 1.1.9 2 2 2h14c1.1 0 2-.9 2-2V5c0-1.1-.9-2-2-2zM9 17H7v-7h2v7zm4 0h-2V7h2v10zm4 0h-2v-4h2v4z\"/>\n",
              "    </g>\n",
              "</svg>\n",
              "      </button>\n",
              "\n",
              "<style>\n",
              "  .colab-df-quickchart {\n",
              "      --bg-color: #E8F0FE;\n",
              "      --fill-color: #1967D2;\n",
              "      --hover-bg-color: #E2EBFA;\n",
              "      --hover-fill-color: #174EA6;\n",
              "      --disabled-fill-color: #AAA;\n",
              "      --disabled-bg-color: #DDD;\n",
              "  }\n",
              "\n",
              "  [theme=dark] .colab-df-quickchart {\n",
              "      --bg-color: #3B4455;\n",
              "      --fill-color: #D2E3FC;\n",
              "      --hover-bg-color: #434B5C;\n",
              "      --hover-fill-color: #FFFFFF;\n",
              "      --disabled-bg-color: #3B4455;\n",
              "      --disabled-fill-color: #666;\n",
              "  }\n",
              "\n",
              "  .colab-df-quickchart {\n",
              "    background-color: var(--bg-color);\n",
              "    border: none;\n",
              "    border-radius: 50%;\n",
              "    cursor: pointer;\n",
              "    display: none;\n",
              "    fill: var(--fill-color);\n",
              "    height: 32px;\n",
              "    padding: 0;\n",
              "    width: 32px;\n",
              "  }\n",
              "\n",
              "  .colab-df-quickchart:hover {\n",
              "    background-color: var(--hover-bg-color);\n",
              "    box-shadow: 0 1px 2px rgba(60, 64, 67, 0.3), 0 1px 3px 1px rgba(60, 64, 67, 0.15);\n",
              "    fill: var(--button-hover-fill-color);\n",
              "  }\n",
              "\n",
              "  .colab-df-quickchart-complete:disabled,\n",
              "  .colab-df-quickchart-complete:disabled:hover {\n",
              "    background-color: var(--disabled-bg-color);\n",
              "    fill: var(--disabled-fill-color);\n",
              "    box-shadow: none;\n",
              "  }\n",
              "\n",
              "  .colab-df-spinner {\n",
              "    border: 2px solid var(--fill-color);\n",
              "    border-color: transparent;\n",
              "    border-bottom-color: var(--fill-color);\n",
              "    animation:\n",
              "      spin 1s steps(1) infinite;\n",
              "  }\n",
              "\n",
              "  @keyframes spin {\n",
              "    0% {\n",
              "      border-color: transparent;\n",
              "      border-bottom-color: var(--fill-color);\n",
              "      border-left-color: var(--fill-color);\n",
              "    }\n",
              "    20% {\n",
              "      border-color: transparent;\n",
              "      border-left-color: var(--fill-color);\n",
              "      border-top-color: var(--fill-color);\n",
              "    }\n",
              "    30% {\n",
              "      border-color: transparent;\n",
              "      border-left-color: var(--fill-color);\n",
              "      border-top-color: var(--fill-color);\n",
              "      border-right-color: var(--fill-color);\n",
              "    }\n",
              "    40% {\n",
              "      border-color: transparent;\n",
              "      border-right-color: var(--fill-color);\n",
              "      border-top-color: var(--fill-color);\n",
              "    }\n",
              "    60% {\n",
              "      border-color: transparent;\n",
              "      border-right-color: var(--fill-color);\n",
              "    }\n",
              "    80% {\n",
              "      border-color: transparent;\n",
              "      border-right-color: var(--fill-color);\n",
              "      border-bottom-color: var(--fill-color);\n",
              "    }\n",
              "    90% {\n",
              "      border-color: transparent;\n",
              "      border-bottom-color: var(--fill-color);\n",
              "    }\n",
              "  }\n",
              "</style>\n",
              "\n",
              "      <script>\n",
              "        async function quickchart(key) {\n",
              "          const quickchartButtonEl =\n",
              "            document.querySelector('#' + key + ' button');\n",
              "          quickchartButtonEl.disabled = true;  // To prevent multiple clicks.\n",
              "          quickchartButtonEl.classList.add('colab-df-spinner');\n",
              "          try {\n",
              "            const charts = await google.colab.kernel.invokeFunction(\n",
              "                'suggestCharts', [key], {});\n",
              "          } catch (error) {\n",
              "            console.error('Error during call to suggestCharts:', error);\n",
              "          }\n",
              "          quickchartButtonEl.classList.remove('colab-df-spinner');\n",
              "          quickchartButtonEl.classList.add('colab-df-quickchart-complete');\n",
              "        }\n",
              "        (() => {\n",
              "          let quickchartButtonEl =\n",
              "            document.querySelector('#df-aaae9cd9-4965-4f61-8b3e-78f0492c97ee button');\n",
              "          quickchartButtonEl.style.display =\n",
              "            google.colab.kernel.accessAllowed ? 'block' : 'none';\n",
              "        })();\n",
              "      </script>\n",
              "    </div>\n",
              "\n",
              "    </div>\n",
              "  </div>\n"
            ],
            "application/vnd.google.colaboratory.intrinsic+json": {
              "type": "dataframe",
              "variable_name": "df",
              "summary": "{\n  \"name\": \"df\",\n  \"rows\": 120,\n  \"fields\": [\n    {\n      \"column\": \"prof\",\n      \"properties\": {\n        \"dtype\": \"string\",\n        \"num_unique_values\": 68,\n        \"samples\": [\n          \"Prof35\",\n          \"Prof30\",\n          \"Prof61\"\n        ],\n        \"semantic_type\": \"\",\n        \"description\": \"\"\n      }\n    },\n    {\n      \"column\": \"Gender\",\n      \"properties\": {\n        \"dtype\": \"category\",\n        \"num_unique_values\": 2,\n        \"samples\": [\n          \"Female\",\n          \"Male\"\n        ],\n        \"semantic_type\": \"\",\n        \"description\": \"\"\n      }\n    },\n    {\n      \"column\": \"Age\",\n      \"properties\": {\n        \"dtype\": \"number\",\n        \"std\": 10,\n        \"min\": 28,\n        \"max\": 59,\n        \"num_unique_values\": 29,\n        \"samples\": [\n          52,\n          28\n        ],\n        \"semantic_type\": \"\",\n        \"description\": \"\"\n      }\n    },\n    {\n      \"column\": \"Tenure\",\n      \"properties\": {\n        \"dtype\": \"category\",\n        \"num_unique_values\": 2,\n        \"samples\": [\n          \"Yes\",\n          \"No\"\n        ],\n        \"semantic_type\": \"\",\n        \"description\": \"\"\n      }\n    },\n    {\n      \"column\": \"Evaluation\",\n      \"properties\": {\n        \"dtype\": \"number\",\n        \"std\": 0.5874587952652116,\n        \"min\": 3.03,\n        \"max\": 4.99,\n        \"num_unique_values\": 90,\n        \"samples\": [\n          4.15,\n          3.03\n        ],\n        \"semantic_type\": \"\",\n        \"description\": \"\"\n      }\n    },\n    {\n      \"column\": \"Students\",\n      \"properties\": {\n        \"dtype\": \"number\",\n        \"std\": 20,\n        \"min\": 30,\n        \"max\": 99,\n        \"num_unique_values\": 62,\n        \"samples\": [\n          75,\n          55\n        ],\n        \"semantic_type\": \"\",\n        \"description\": \"\"\n      }\n    },\n    {\n      \"column\": \"Beauty\",\n      \"properties\": {\n        \"dtype\": \"number\",\n        \"std\": 0.6771164557724699,\n        \"min\": 2.5,\n        \"max\": 5.0,\n        \"num_unique_values\": 26,\n        \"samples\": [\n          3.9,\n          3.6\n        ],\n        \"semantic_type\": \"\",\n        \"description\": \"\"\n      }\n    },\n    {\n      \"column\": \"CourseLevel\",\n      \"properties\": {\n        \"dtype\": \"category\",\n        \"num_unique_values\": 2,\n        \"samples\": [\n          \"Upper\",\n          \"Lower\"\n        ],\n        \"semantic_type\": \"\",\n        \"description\": \"\"\n      }\n    }\n  ]\n}"
            }
          },
          "metadata": {},
          "execution_count": 3
        }
      ]
    },
    {
      "cell_type": "markdown",
      "source": [
        "# Q1. Regression with T-test: Using the teachers rating data set, does gender affect teaching evaluation rates?"
      ],
      "metadata": {
        "id": "eq9MJ2mKyvUe"
      }
    },
    {
      "cell_type": "code",
      "source": [
        "model = smf.ols('Evaluation ~ Gender', data=df).fit()\n",
        "print(model.summary())"
      ],
      "metadata": {
        "colab": {
          "base_uri": "https://localhost:8080/"
        },
        "id": "qsTUmNn8ynqU",
        "outputId": "8ae2c197-7e94-4f7d-dcfa-98494bf6061f"
      },
      "execution_count": 5,
      "outputs": [
        {
          "output_type": "stream",
          "name": "stdout",
          "text": [
            "                            OLS Regression Results                            \n",
            "==============================================================================\n",
            "Dep. Variable:             Evaluation   R-squared:                       0.043\n",
            "Model:                            OLS   Adj. R-squared:                  0.035\n",
            "Method:                 Least Squares   F-statistic:                     5.271\n",
            "Date:                Mon, 27 Oct 2025   Prob (F-statistic):             0.0235\n",
            "Time:                        13:11:26   Log-Likelihood:                -103.31\n",
            "No. Observations:                 120   AIC:                             210.6\n",
            "Df Residuals:                     118   BIC:                             216.2\n",
            "Df Model:                           1                                         \n",
            "Covariance Type:            nonrobust                                         \n",
            "==================================================================================\n",
            "                     coef    std err          t      P>|t|      [0.025      0.975]\n",
            "----------------------------------------------------------------------------------\n",
            "Intercept          3.9025      0.081     48.285      0.000       3.742       4.063\n",
            "Gender[T.Male]     0.2447      0.107      2.296      0.023       0.034       0.456\n",
            "==============================================================================\n",
            "Omnibus:                       29.482   Durbin-Watson:                   1.842\n",
            "Prob(Omnibus):                  0.000   Jarque-Bera (JB):                6.554\n",
            "Skew:                          -0.137   Prob(JB):                       0.0377\n",
            "Kurtosis:                       1.889   Cond. No.                         2.83\n",
            "==============================================================================\n",
            "\n",
            "Notes:\n",
            "[1] Standard Errors assume that the covariance matrix of the errors is correctly specified.\n"
          ]
        }
      ]
    },
    {
      "cell_type": "markdown",
      "source": [
        "Based on the regression results (F(1,118) = 5.27, p = 0.0235), there is a statistically significant difference in teaching evaluation ratings between male and female instructors.\n",
        "\n",
        "On average, male instructors scored about 0.24 points higher than female instructors on teaching evaluations. Because the p-value is below 0.05, this difference is unlikely to be due to random variation, suggesting a real gender effect in the evaluation scores."
      ],
      "metadata": {
        "id": "khD0nHfhzUQF"
      }
    },
    {
      "cell_type": "markdown",
      "source": [
        "# Q2. Regression with ANOVA: Using the teachers' rating data set, does beauty score for instructors differ by age?"
      ],
      "metadata": {
        "id": "-KPUQRjOzXUB"
      }
    },
    {
      "cell_type": "code",
      "source": [
        "df['age_group'] = pd.cut(df['Age'], bins=[20, 30, 40, 50, 60, 70],\n",
        "                         labels=['20s', '30s', '40s', '50s', '60s'])\n",
        "model = smf.ols('Beauty ~ C(age_group)', data=df).fit()\n",
        "anova_table = sm.stats.anova_lm(model, typ=2)\n",
        "print(anova_table)\n"
      ],
      "metadata": {
        "colab": {
          "base_uri": "https://localhost:8080/"
        },
        "id": "NbQ9_M2TyzXD",
        "outputId": "0835ce86-0685-45ea-e04e-5f7ea9ee0d04"
      },
      "execution_count": 6,
      "outputs": [
        {
          "output_type": "stream",
          "name": "stdout",
          "text": [
            "                 sum_sq     df         F    PR(>F)\n",
            "C(age_group)   1.254207    4.0  0.678339  0.567023\n",
            "Residual      53.619261  116.0       NaN       NaN\n"
          ]
        },
        {
          "output_type": "stream",
          "name": "stderr",
          "text": [
            "/usr/local/lib/python3.12/dist-packages/statsmodels/base/model.py:1894: ValueWarning: covariance of constraints does not have full rank. The number of constraints is 4, but rank is 3\n",
            "  warnings.warn('covariance of constraints does not have full '\n"
          ]
        }
      ]
    },
    {
      "cell_type": "markdown",
      "source": [
        "An ANOVA test was conducted to determine whether beauty scores differ by age group.\n",
        "The results were not statistically significant, F(4,116) = 0.68, p = 0.567.\n",
        "This indicates that instructors’ beauty scores do not significantly differ across age groups."
      ],
      "metadata": {
        "id": "3B3Bk9o10Lqp"
      }
    },
    {
      "cell_type": "markdown",
      "source": [
        "# Q3. Correlation: Using the teachers' rating dataset, Is teaching evaluation score correlated with beauty score?"
      ],
      "metadata": {
        "id": "duHoK0iA0Y42"
      }
    },
    {
      "cell_type": "code",
      "source": [
        "import statsmodels.api as sm\n",
        "\n",
        "X = df['Beauty']\n",
        "y = df['Evaluation']\n",
        "\n",
        "X = sm.add_constant(X)\n",
        "\n",
        "model = sm.OLS(y, X).fit()\n",
        "predictions = model.predict(X)\n",
        "\n",
        "print(model.summary())\n"
      ],
      "metadata": {
        "colab": {
          "base_uri": "https://localhost:8080/"
        },
        "id": "Hptmn78Lz_ZW",
        "outputId": "e973db35-620a-4ad5-9520-3d82c2d9df58"
      },
      "execution_count": 7,
      "outputs": [
        {
          "output_type": "stream",
          "name": "stdout",
          "text": [
            "                            OLS Regression Results                            \n",
            "==============================================================================\n",
            "Dep. Variable:             Evaluation   R-squared:                       0.033\n",
            "Model:                            OLS   Adj. R-squared:                  0.025\n",
            "Method:                 Least Squares   F-statistic:                     4.089\n",
            "Date:                Mon, 27 Oct 2025   Prob (F-statistic):             0.0454\n",
            "Time:                        13:18:10   Log-Likelihood:                -103.89\n",
            "No. Observations:                 120   AIC:                             211.8\n",
            "Df Residuals:                     118   BIC:                             217.4\n",
            "Df Model:                           1                                         \n",
            "Covariance Type:            nonrobust                                         \n",
            "==============================================================================\n",
            "                 coef    std err          t      P>|t|      [0.025      0.975]\n",
            "------------------------------------------------------------------------------\n",
            "const          4.6174      0.289     15.988      0.000       4.045       5.189\n",
            "Beauty        -0.1588      0.079     -2.022      0.045      -0.314      -0.003\n",
            "==============================================================================\n",
            "Omnibus:                       20.950   Durbin-Watson:                   1.782\n",
            "Prob(Omnibus):                  0.000   Jarque-Bera (JB):                5.497\n",
            "Skew:                          -0.080   Prob(JB):                       0.0640\n",
            "Kurtosis:                       1.964   Cond. No.                         21.5\n",
            "==============================================================================\n",
            "\n",
            "Notes:\n",
            "[1] Standard Errors assume that the covariance matrix of the errors is correctly specified.\n"
          ]
        }
      ]
    },
    {
      "cell_type": "markdown",
      "source": [
        "[1] Standard Errors assume that the covariance matrix of the errors is correctly specified.\n",
        "\n",
        "The model was statistically significant, F(1,118) = 4.09, p = 0.045, with an R² of 0.033.\n",
        "Beauty score was a significant negative predictor of teaching evaluations (β = -0.159, p = 0.045), indicating that as instructors’ beauty scores increase, their evaluation ratings slightly decrease.\n",
        "However, since the model explains only about 3.3% of the variance in evaluation scores, the practical impact of beauty on teaching evaluations appears to be very small."
      ],
      "metadata": {
        "id": "bx3PnCAS0nC_"
      }
    },
    {
      "cell_type": "code",
      "source": [],
      "metadata": {
        "id": "zvja_yQK0a9c"
      },
      "execution_count": null,
      "outputs": []
    }
  ]
}