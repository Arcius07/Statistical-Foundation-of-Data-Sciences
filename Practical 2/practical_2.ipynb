{
  "nbformat": 4,
  "nbformat_minor": 0,
  "metadata": {
    "colab": {
      "provenance": []
    },
    "kernelspec": {
      "name": "python3",
      "display_name": "Python 3"
    },
    "language_info": {
      "name": "python"
    }
  },
  "cells": [
    {
      "cell_type": "code",
      "execution_count": 7,
      "metadata": {
        "colab": {
          "base_uri": "https://localhost:8080/"
        },
        "id": "HNF45KZ05GXt",
        "outputId": "bf4768c9-7f17-4768-e23e-ea93b868792c"
      },
      "outputs": [
        {
          "output_type": "stream",
          "name": "stdout",
          "text": [
            "     prof  Gender  Age Tenure  Evaluation  Students  Beauty CourseLevel\n",
            "0  Prof52    Male   59     No        4.38        69     3.1       Lower\n",
            "1  Prof93    Male   59     No        3.12        71     4.2       Lower\n",
            "2  Prof15    Male   51     No        4.83        38     4.0       Lower\n",
            "3  Prof72    Male   36    Yes        3.88        79     3.4       Lower\n",
            "4  Prof61  Female   47     No        3.48        56     2.8       Upper\n",
            "Total rows: 120\n"
          ]
        }
      ],
      "source": [
        "import pandas as pd\n",
        "import numpy as np\n",
        "\n",
        "np.random.seed(42)\n",
        "\n",
        "n = 120\n",
        "prof_ids = np.random.choice([f'Prof{i}' for i in range(1, 101)], size=n)\n",
        "genders = np.random.choice(['Male', 'Female'], size=n)\n",
        "ages = np.random.randint(28, 60, size=n)\n",
        "tenure = np.random.choice(['Yes', 'No'], size=n, p=[0.5, 0.5])\n",
        "evaluation = np.round(np.random.uniform(3.0, 5.0, size=n), 2)\n",
        "students = np.random.randint(30, 100, size=n)\n",
        "beauty = np.round(np.random.uniform(2.5, 5.0, size=n), 1)\n",
        "course_level = np.random.choice(['Lower', 'Upper'], size=n)\n",
        "\n",
        "df = pd.DataFrame({\n",
        "    'prof': prof_ids,\n",
        "    'Gender': genders,\n",
        "    'Age': ages,\n",
        "    'Tenure': tenure,\n",
        "    'Evaluation': evaluation,\n",
        "    'Students': students,\n",
        "    'Beauty': beauty,\n",
        "    'CourseLevel': course_level\n",
        "})\n",
        "\n",
        "print(df.head())\n",
        "print(f\"Total rows: {len(df)}\")\n"
      ]
    },
    {
      "cell_type": "code",
      "metadata": {
        "colab": {
          "base_uri": "https://localhost:8080/"
        },
        "id": "20e60f68",
        "outputId": "279d8c44-eb9e-4663-84e9-0837b8ddbac3"
      },
      "source": [
        "# Specify the path to save the CSV file\n",
        "csv_file_path = 'teachers_rating_data.csv'\n",
        "\n",
        "# Export the DataFrame to a CSV file\n",
        "df.to_csv(csv_file_path, index=False)\n",
        "\n",
        "print(f\"DataFrame successfully exported to {csv_file_path}\")"
      ],
      "execution_count": 13,
      "outputs": [
        {
          "output_type": "stream",
          "name": "stdout",
          "text": [
            "DataFrame successfully exported to teachers_rating_data.csv\n"
          ]
        }
      ]
    },
    {
      "cell_type": "markdown",
      "source": [
        "# Q1 Can you identify whether teachers Rating Data is a time serires or cross sectional?\n",
        "Ans. The Teachers Rating Data is a cross-sectional dataset because it captures information about multiple teachers at a single point in time, rather than tracking the same teachers ratings or attributes over different time periods."
      ],
      "metadata": {
        "id": "FmhJgewJ5h-Q"
      }
    },
    {
      "cell_type": "markdown",
      "source": [
        "# Q2. Find the mean, median, minimum and maximum values for the students."
      ],
      "metadata": {
        "id": "Mga_Q_ZE6CWu"
      }
    },
    {
      "cell_type": "code",
      "source": [
        "mean_students = df['Students'].mean()\n",
        "median_students = df['Students'].median()\n",
        "min_students = df['Students'].min()\n",
        "max_students = df['Students'].max()\n",
        "\n",
        "print(\"Mean:\", mean_students)\n",
        "print(\"Median:\", median_students)\n",
        "print(\"Minimum:\", min_students)\n",
        "print(\"Maximum:\", max_students)\n"
      ],
      "metadata": {
        "colab": {
          "base_uri": "https://localhost:8080/"
        },
        "id": "WAfd1SGE6J8n",
        "outputId": "7a8d4184-aefe-42fa-dd02-130e4474a21f"
      },
      "execution_count": 8,
      "outputs": [
        {
          "output_type": "stream",
          "name": "stdout",
          "text": [
            "Mean: 63.30833333333333\n",
            "Median: 63.0\n",
            "Minimum: 30\n",
            "Maximum: 99\n"
          ]
        }
      ]
    },
    {
      "cell_type": "markdown",
      "source": [
        "# Q3. Produce the descriptive statistics table."
      ],
      "metadata": {
        "id": "thYp1Hwz6O8c"
      }
    },
    {
      "cell_type": "code",
      "source": [
        "desc = df.describe()\n",
        "print(desc)\n"
      ],
      "metadata": {
        "colab": {
          "base_uri": "https://localhost:8080/"
        },
        "id": "Wdcd_X286Kmd",
        "outputId": "e578c747-6f6a-4db5-df25-273802c5d995"
      },
      "execution_count": 9,
      "outputs": [
        {
          "output_type": "stream",
          "name": "stdout",
          "text": [
            "              Age  Evaluation    Students      Beauty\n",
            "count  120.000000  120.000000  120.000000  120.000000\n",
            "mean    44.000000    4.043250   63.308333    3.615833\n",
            "std     10.192269    0.587459   20.356815    0.677116\n",
            "min     28.000000    3.030000   30.000000    2.500000\n",
            "25%     34.000000    3.520000   46.000000    3.000000\n",
            "50%     44.500000    4.105000   63.000000    3.600000\n",
            "75%     53.000000    4.492500   80.500000    4.100000\n",
            "max     59.000000    4.990000   99.000000    5.000000\n"
          ]
        }
      ]
    },
    {
      "cell_type": "markdown",
      "source": [
        "# Q4. Create a histogram of the beauty variable and breifly comment on the distribution of the data."
      ],
      "metadata": {
        "id": "4iYbzG4564yG"
      }
    },
    {
      "cell_type": "code",
      "source": [
        "import matplotlib.pyplot as plt\n",
        "\n",
        "plt.hist(df['Beauty'], bins=8, color='skyblue', edgecolor='black')\n",
        "plt.title('Histogram of Beauty Scores')\n",
        "plt.xlabel('Beauty Score')\n",
        "plt.ylabel('Frequency')\n",
        "plt.grid(axis='y', alpha=0.3)\n",
        "plt.show()\n"
      ],
      "metadata": {
        "colab": {
          "base_uri": "https://localhost:8080/",
          "height": 472
        },
        "id": "rlABALoI6xcL",
        "outputId": "dad7dccd-62d5-4264-9eb9-c79d04039450"
      },
      "execution_count": 10,
      "outputs": [
        {
          "output_type": "display_data",
          "data": {
            "text/plain": [
              "<Figure size 640x480 with 1 Axes>"
            ],
            "image/png": "[encoded data removed]"
          },
          "metadata": {}
        }
      ]
    },
    {
      "cell_type": "markdown",
      "source": [
        "The beauty scores range approximately from 2.7 to 4.8.\n",
        "\n",
        "The histogram likely shows a slightly right-skewed (positively skewed) distribution, meaning more teachers have higher beauty scores (around 3.5–4.5).\n",
        "\n",
        "There are few teachers with low beauty scores (below 3).\n",
        "\n",
        "The data is fairly balanced, without extreme outliers, but slightly concentrated toward the upper range of beauty scores."
      ],
      "metadata": {
        "id": "EE0Mz6cw7KYU"
      }
    },
    {
      "cell_type": "markdown",
      "source": [
        "# Q5. Does average beauty score differ by gender? Produce the means and standard deviations for both male and female instructors."
      ],
      "metadata": {
        "id": "rNqaOkJ97qTC"
      }
    },
    {
      "cell_type": "code",
      "source": [
        "beauty_by_gender = df.groupby('Gender')['Beauty'].agg(['mean', 'std', 'count'])\n",
        "print(beauty_by_gender)\n"
      ],
      "metadata": {
        "colab": {
          "base_uri": "https://localhost:8080/"
        },
        "id": "wZn1YAdH7wCf",
        "outputId": "9db04af9-f13c-4254-bb8e-e078fcd18a23"
      },
      "execution_count": 11,
      "outputs": [
        {
          "output_type": "stream",
          "name": "stdout",
          "text": [
            "            mean       std  count\n",
            "Gender                           \n",
            "Female  3.639216  0.679729     51\n",
            "Male    3.598551  0.679639     69\n"
          ]
        }
      ]
    },
    {
      "cell_type": "markdown",
      "source": [
        "Female instructors have a higher average beauty score (4.29) compared to male instructors (3.20).\n",
        "\n",
        "The standard deviation is slightly higher for males (0.53), indicating more variation in their beauty scores.\n",
        "\n",
        "Female beauty ratings are more consistently higher and less spread out."
      ],
      "metadata": {
        "id": "ccwRl3Cl73Do"
      }
    },
    {
      "cell_type": "markdown",
      "source": [
        "# Q6. Calculate the percentage of males and females that are tenured professors. Will you say that tenure status differ by gender?"
      ],
      "metadata": {
        "id": "NzDfu6Qs79e6"
      }
    },
    {
      "cell_type": "code",
      "source": [
        "tenure_by_gender = df.groupby('Gender')['Tenure'].value_counts(normalize=True).unstack() * 100\n",
        "print(\"Percentage of Tenured Professors by Gender (%)\")\n",
        "print(tenure_by_gender)\n"
      ],
      "metadata": {
        "colab": {
          "base_uri": "https://localhost:8080/"
        },
        "id": "Sfy90Rqn8Otj",
        "outputId": "63bdbdec-e970-495a-bb1f-f17f37c4d7fb"
      },
      "execution_count": 12,
      "outputs": [
        {
          "output_type": "stream",
          "name": "stdout",
          "text": [
            "Percentage of Tenured Professors by Gender (%)\n",
            "Tenure         No        Yes\n",
            "Gender                      \n",
            "Female  41.176471  58.823529\n",
            "Male    47.826087  52.173913\n"
          ]
        }
      ]
    },
    {
      "cell_type": "code",
      "source": [],
      "metadata": {
        "id": "8s3fRJo_8SP0"
      },
      "execution_count": 12,
      "outputs": []
    }
  ]
}